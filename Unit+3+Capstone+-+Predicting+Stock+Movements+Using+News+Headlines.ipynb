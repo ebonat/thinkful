{
 "cells": [
  {
   "cell_type": "code",
   "execution_count": 1,
   "metadata": {
    "collapsed": true
   },
   "outputs": [],
   "source": [
    "import pandas as pd\n",
    "import numpy as np\n",
    "import matplotlib.pyplot as plt\n",
    "%matplotlib inline"
   ]
  },
  {
   "cell_type": "code",
   "execution_count": 47,
   "metadata": {
    "collapsed": true
   },
   "outputs": [],
   "source": [
    "df = pd.read_csv('C:\\\\Users\\\\ryan\\\\Desktop\\\\Thinkful DS Sample Data - Main Course\\\\Unit 3\\\\Combined_News_DJIA.csv')"
   ]
  },
  {
   "cell_type": "code",
   "execution_count": 48,
   "metadata": {
    "collapsed": false
   },
   "outputs": [
    {
     "data": {
      "text/html": [
       "<div>\n",
       "<table border=\"1\" class=\"dataframe\">\n",
       "  <thead>\n",
       "    <tr style=\"text-align: right;\">\n",
       "      <th></th>\n",
       "      <th>Date</th>\n",
       "      <th>Label</th>\n",
       "      <th>Top1</th>\n",
       "      <th>Top2</th>\n",
       "      <th>Top3</th>\n",
       "      <th>Top4</th>\n",
       "      <th>Top5</th>\n",
       "      <th>Top6</th>\n",
       "      <th>Top7</th>\n",
       "      <th>Top8</th>\n",
       "      <th>...</th>\n",
       "      <th>Top16</th>\n",
       "      <th>Top17</th>\n",
       "      <th>Top18</th>\n",
       "      <th>Top19</th>\n",
       "      <th>Top20</th>\n",
       "      <th>Top21</th>\n",
       "      <th>Top22</th>\n",
       "      <th>Top23</th>\n",
       "      <th>Top24</th>\n",
       "      <th>Top25</th>\n",
       "    </tr>\n",
       "  </thead>\n",
       "  <tbody>\n",
       "    <tr>\n",
       "      <th>0</th>\n",
       "      <td>2008-08-08</td>\n",
       "      <td>0</td>\n",
       "      <td>b\"Georgia 'downs two Russian warplanes' as cou...</td>\n",
       "      <td>b'BREAKING: Musharraf to be impeached.'</td>\n",
       "      <td>b'Russia Today: Columns of troops roll into So...</td>\n",
       "      <td>b'Russian tanks are moving towards the capital...</td>\n",
       "      <td>b\"Afghan children raped with 'impunity,' U.N. ...</td>\n",
       "      <td>b'150 Russian tanks have entered South Ossetia...</td>\n",
       "      <td>b\"Breaking: Georgia invades South Ossetia, Rus...</td>\n",
       "      <td>b\"The 'enemy combatent' trials are nothing but...</td>\n",
       "      <td>...</td>\n",
       "      <td>b'Georgia Invades South Ossetia - if Russia ge...</td>\n",
       "      <td>b'Al-Qaeda Faces Islamist Backlash'</td>\n",
       "      <td>b'Condoleezza Rice: \"The US would not act to p...</td>\n",
       "      <td>b'This is a busy day:  The European Union has ...</td>\n",
       "      <td>b\"Georgia will withdraw 1,000 soldiers from Ir...</td>\n",
       "      <td>b'Why the Pentagon Thinks Attacking Iran is a ...</td>\n",
       "      <td>b'Caucasus in crisis: Georgia invades South Os...</td>\n",
       "      <td>b'Indian shoe manufactory  - And again in a se...</td>\n",
       "      <td>b'Visitors Suffering from Mental Illnesses Ban...</td>\n",
       "      <td>b\"No Help for Mexico's Kidnapping Surge\"</td>\n",
       "    </tr>\n",
       "    <tr>\n",
       "      <th>1</th>\n",
       "      <td>2008-08-11</td>\n",
       "      <td>1</td>\n",
       "      <td>b'Why wont America and Nato help us? If they w...</td>\n",
       "      <td>b'Bush puts foot down on Georgian conflict'</td>\n",
       "      <td>b\"Jewish Georgian minister: Thanks to Israeli ...</td>\n",
       "      <td>b'Georgian army flees in disarray as Russians ...</td>\n",
       "      <td>b\"Olympic opening ceremony fireworks 'faked'\"</td>\n",
       "      <td>b'What were the Mossad with fraudulent New Zea...</td>\n",
       "      <td>b'Russia angered by Israeli military sale to G...</td>\n",
       "      <td>b'An American citizen living in S.Ossetia blam...</td>\n",
       "      <td>...</td>\n",
       "      <td>b'Israel and the US behind the Georgian aggres...</td>\n",
       "      <td>b'\"Do not believe TV, neither Russian nor Geor...</td>\n",
       "      <td>b'Riots are still going on in Montreal (Canada...</td>\n",
       "      <td>b'China to overtake US as largest manufacturer'</td>\n",
       "      <td>b'War in South Ossetia [PICS]'</td>\n",
       "      <td>b'Israeli Physicians Group Condemns State Tort...</td>\n",
       "      <td>b' Russia has just beaten the United States ov...</td>\n",
       "      <td>b'Perhaps *the* question about the Georgia - R...</td>\n",
       "      <td>b'Russia is so much better at war'</td>\n",
       "      <td>b\"So this is what it's come to: trading sex fo...</td>\n",
       "    </tr>\n",
       "  </tbody>\n",
       "</table>\n",
       "<p>2 rows × 27 columns</p>\n",
       "</div>"
      ],
      "text/plain": [
       "         Date  Label                                               Top1  \\\n",
       "0  2008-08-08      0  b\"Georgia 'downs two Russian warplanes' as cou...   \n",
       "1  2008-08-11      1  b'Why wont America and Nato help us? If they w...   \n",
       "\n",
       "                                          Top2  \\\n",
       "0      b'BREAKING: Musharraf to be impeached.'   \n",
       "1  b'Bush puts foot down on Georgian conflict'   \n",
       "\n",
       "                                                Top3  \\\n",
       "0  b'Russia Today: Columns of troops roll into So...   \n",
       "1  b\"Jewish Georgian minister: Thanks to Israeli ...   \n",
       "\n",
       "                                                Top4  \\\n",
       "0  b'Russian tanks are moving towards the capital...   \n",
       "1  b'Georgian army flees in disarray as Russians ...   \n",
       "\n",
       "                                                Top5  \\\n",
       "0  b\"Afghan children raped with 'impunity,' U.N. ...   \n",
       "1      b\"Olympic opening ceremony fireworks 'faked'\"   \n",
       "\n",
       "                                                Top6  \\\n",
       "0  b'150 Russian tanks have entered South Ossetia...   \n",
       "1  b'What were the Mossad with fraudulent New Zea...   \n",
       "\n",
       "                                                Top7  \\\n",
       "0  b\"Breaking: Georgia invades South Ossetia, Rus...   \n",
       "1  b'Russia angered by Israeli military sale to G...   \n",
       "\n",
       "                                                Top8  \\\n",
       "0  b\"The 'enemy combatent' trials are nothing but...   \n",
       "1  b'An American citizen living in S.Ossetia blam...   \n",
       "\n",
       "                         ...                          \\\n",
       "0                        ...                           \n",
       "1                        ...                           \n",
       "\n",
       "                                               Top16  \\\n",
       "0  b'Georgia Invades South Ossetia - if Russia ge...   \n",
       "1  b'Israel and the US behind the Georgian aggres...   \n",
       "\n",
       "                                               Top17  \\\n",
       "0                b'Al-Qaeda Faces Islamist Backlash'   \n",
       "1  b'\"Do not believe TV, neither Russian nor Geor...   \n",
       "\n",
       "                                               Top18  \\\n",
       "0  b'Condoleezza Rice: \"The US would not act to p...   \n",
       "1  b'Riots are still going on in Montreal (Canada...   \n",
       "\n",
       "                                               Top19  \\\n",
       "0  b'This is a busy day:  The European Union has ...   \n",
       "1    b'China to overtake US as largest manufacturer'   \n",
       "\n",
       "                                               Top20  \\\n",
       "0  b\"Georgia will withdraw 1,000 soldiers from Ir...   \n",
       "1                     b'War in South Ossetia [PICS]'   \n",
       "\n",
       "                                               Top21  \\\n",
       "0  b'Why the Pentagon Thinks Attacking Iran is a ...   \n",
       "1  b'Israeli Physicians Group Condemns State Tort...   \n",
       "\n",
       "                                               Top22  \\\n",
       "0  b'Caucasus in crisis: Georgia invades South Os...   \n",
       "1  b' Russia has just beaten the United States ov...   \n",
       "\n",
       "                                               Top23  \\\n",
       "0  b'Indian shoe manufactory  - And again in a se...   \n",
       "1  b'Perhaps *the* question about the Georgia - R...   \n",
       "\n",
       "                                               Top24  \\\n",
       "0  b'Visitors Suffering from Mental Illnesses Ban...   \n",
       "1                 b'Russia is so much better at war'   \n",
       "\n",
       "                                               Top25  \n",
       "0           b\"No Help for Mexico's Kidnapping Surge\"  \n",
       "1  b\"So this is what it's come to: trading sex fo...  \n",
       "\n",
       "[2 rows x 27 columns]"
      ]
     },
     "execution_count": 48,
     "metadata": {},
     "output_type": "execute_result"
    }
   ],
   "source": [
    "df.head(2)"
   ]
  },
  {
   "cell_type": "code",
   "execution_count": 49,
   "metadata": {
    "collapsed": false
   },
   "outputs": [
    {
     "data": {
      "text/html": [
       "<div>\n",
       "<table border=\"1\" class=\"dataframe\">\n",
       "  <thead>\n",
       "    <tr style=\"text-align: right;\">\n",
       "      <th></th>\n",
       "      <th>Date</th>\n",
       "      <th>Label</th>\n",
       "      <th>Top1</th>\n",
       "      <th>Top2</th>\n",
       "      <th>Top3</th>\n",
       "      <th>Top4</th>\n",
       "      <th>Top5</th>\n",
       "      <th>Top6</th>\n",
       "      <th>Top7</th>\n",
       "      <th>Top8</th>\n",
       "      <th>...</th>\n",
       "      <th>Top16</th>\n",
       "      <th>Top17</th>\n",
       "      <th>Top18</th>\n",
       "      <th>Top19</th>\n",
       "      <th>Top20</th>\n",
       "      <th>Top21</th>\n",
       "      <th>Top22</th>\n",
       "      <th>Top23</th>\n",
       "      <th>Top24</th>\n",
       "      <th>Top25</th>\n",
       "    </tr>\n",
       "  </thead>\n",
       "  <tbody>\n",
       "    <tr>\n",
       "      <th>1987</th>\n",
       "      <td>2016-06-30</td>\n",
       "      <td>1</td>\n",
       "      <td>Jamaica proposes marijuana dispensers for tour...</td>\n",
       "      <td>Stephen Hawking says pollution and 'stupidity'...</td>\n",
       "      <td>Boris Johnson says he will not run for Tory pa...</td>\n",
       "      <td>Six gay men in Ivory Coast were abused and for...</td>\n",
       "      <td>Switzerland denies citizenship to Muslim immig...</td>\n",
       "      <td>Palestinian terrorist stabs israeli teen girl ...</td>\n",
       "      <td>Puerto Rico will default on $1 billion of debt...</td>\n",
       "      <td>Republic of Ireland fans to be awarded medal f...</td>\n",
       "      <td>...</td>\n",
       "      <td>Googles free wifi at Indian railway stations i...</td>\n",
       "      <td>Mounting evidence suggests 'hobbits' were wipe...</td>\n",
       "      <td>The men who carried out Tuesday's terror attac...</td>\n",
       "      <td>Calls to suspend Saudi Arabia from UN Human Ri...</td>\n",
       "      <td>More Than 100 Nobel Laureates Call Out Greenpe...</td>\n",
       "      <td>British pedophile sentenced to 85 years in US ...</td>\n",
       "      <td>US permitted 1,200 offshore fracks in Gulf of ...</td>\n",
       "      <td>We will be swimming in ridicule - French beach...</td>\n",
       "      <td>UEFA says no minutes of silence for Istanbul v...</td>\n",
       "      <td>Law Enforcement Sources: Gun Used in Paris Ter...</td>\n",
       "    </tr>\n",
       "    <tr>\n",
       "      <th>1988</th>\n",
       "      <td>2016-07-01</td>\n",
       "      <td>1</td>\n",
       "      <td>A 117-year-old woman in Mexico City finally re...</td>\n",
       "      <td>IMF chief backs Athens as permanent Olympic host</td>\n",
       "      <td>The president of France says if Brexit won, so...</td>\n",
       "      <td>British Man Who Must Give Police 24 Hours' Not...</td>\n",
       "      <td>100+ Nobel laureates urge Greenpeace to stop o...</td>\n",
       "      <td>Brazil: Huge spike in number of police killing...</td>\n",
       "      <td>Austria's highest court annuls presidential el...</td>\n",
       "      <td>Facebook wins privacy case, can track any Belg...</td>\n",
       "      <td>...</td>\n",
       "      <td>The United States has placed Myanmar, Uzbekist...</td>\n",
       "      <td>S&amp;amp;P revises European Union credit rating t...</td>\n",
       "      <td>India gets $1 billion loan from World Bank for...</td>\n",
       "      <td>U.S. sailors detained by Iran spoke too much u...</td>\n",
       "      <td>Mass fish kill in Vietnam solved as Taiwan ste...</td>\n",
       "      <td>Philippines president Rodrigo Duterte urges pe...</td>\n",
       "      <td>Spain arrests three Pakistanis accused of prom...</td>\n",
       "      <td>Venezuela, where anger over food shortages is ...</td>\n",
       "      <td>A Hindu temple worker has been killed by three...</td>\n",
       "      <td>Ozone layer hole seems to be healing - US &amp;amp...</td>\n",
       "    </tr>\n",
       "  </tbody>\n",
       "</table>\n",
       "<p>2 rows × 27 columns</p>\n",
       "</div>"
      ],
      "text/plain": [
       "            Date  Label                                               Top1  \\\n",
       "1987  2016-06-30      1  Jamaica proposes marijuana dispensers for tour...   \n",
       "1988  2016-07-01      1  A 117-year-old woman in Mexico City finally re...   \n",
       "\n",
       "                                                   Top2  \\\n",
       "1987  Stephen Hawking says pollution and 'stupidity'...   \n",
       "1988   IMF chief backs Athens as permanent Olympic host   \n",
       "\n",
       "                                                   Top3  \\\n",
       "1987  Boris Johnson says he will not run for Tory pa...   \n",
       "1988  The president of France says if Brexit won, so...   \n",
       "\n",
       "                                                   Top4  \\\n",
       "1987  Six gay men in Ivory Coast were abused and for...   \n",
       "1988  British Man Who Must Give Police 24 Hours' Not...   \n",
       "\n",
       "                                                   Top5  \\\n",
       "1987  Switzerland denies citizenship to Muslim immig...   \n",
       "1988  100+ Nobel laureates urge Greenpeace to stop o...   \n",
       "\n",
       "                                                   Top6  \\\n",
       "1987  Palestinian terrorist stabs israeli teen girl ...   \n",
       "1988  Brazil: Huge spike in number of police killing...   \n",
       "\n",
       "                                                   Top7  \\\n",
       "1987  Puerto Rico will default on $1 billion of debt...   \n",
       "1988  Austria's highest court annuls presidential el...   \n",
       "\n",
       "                                                   Top8  \\\n",
       "1987  Republic of Ireland fans to be awarded medal f...   \n",
       "1988  Facebook wins privacy case, can track any Belg...   \n",
       "\n",
       "                            ...                          \\\n",
       "1987                        ...                           \n",
       "1988                        ...                           \n",
       "\n",
       "                                                  Top16  \\\n",
       "1987  Googles free wifi at Indian railway stations i...   \n",
       "1988  The United States has placed Myanmar, Uzbekist...   \n",
       "\n",
       "                                                  Top17  \\\n",
       "1987  Mounting evidence suggests 'hobbits' were wipe...   \n",
       "1988  S&amp;P revises European Union credit rating t...   \n",
       "\n",
       "                                                  Top18  \\\n",
       "1987  The men who carried out Tuesday's terror attac...   \n",
       "1988  India gets $1 billion loan from World Bank for...   \n",
       "\n",
       "                                                  Top19  \\\n",
       "1987  Calls to suspend Saudi Arabia from UN Human Ri...   \n",
       "1988  U.S. sailors detained by Iran spoke too much u...   \n",
       "\n",
       "                                                  Top20  \\\n",
       "1987  More Than 100 Nobel Laureates Call Out Greenpe...   \n",
       "1988  Mass fish kill in Vietnam solved as Taiwan ste...   \n",
       "\n",
       "                                                  Top21  \\\n",
       "1987  British pedophile sentenced to 85 years in US ...   \n",
       "1988  Philippines president Rodrigo Duterte urges pe...   \n",
       "\n",
       "                                                  Top22  \\\n",
       "1987  US permitted 1,200 offshore fracks in Gulf of ...   \n",
       "1988  Spain arrests three Pakistanis accused of prom...   \n",
       "\n",
       "                                                  Top23  \\\n",
       "1987  We will be swimming in ridicule - French beach...   \n",
       "1988  Venezuela, where anger over food shortages is ...   \n",
       "\n",
       "                                                  Top24  \\\n",
       "1987  UEFA says no minutes of silence for Istanbul v...   \n",
       "1988  A Hindu temple worker has been killed by three...   \n",
       "\n",
       "                                                  Top25  \n",
       "1987  Law Enforcement Sources: Gun Used in Paris Ter...  \n",
       "1988  Ozone layer hole seems to be healing - US &amp...  \n",
       "\n",
       "[2 rows x 27 columns]"
      ]
     },
     "execution_count": 49,
     "metadata": {},
     "output_type": "execute_result"
    }
   ],
   "source": [
    "df.tail(2)"
   ]
  },
  {
   "cell_type": "code",
   "execution_count": 50,
   "metadata": {
    "collapsed": true
   },
   "outputs": [],
   "source": [
    "news = pd.read_csv('C:\\\\Users\\\\ryan\\\\Desktop\\\\Thinkful DS Sample Data - Main Course\\\\Unit 3\\\\RedditNews.csv')"
   ]
  },
  {
   "cell_type": "code",
   "execution_count": 51,
   "metadata": {
    "collapsed": false
   },
   "outputs": [
    {
     "data": {
      "text/html": [
       "<div>\n",
       "<table border=\"1\" class=\"dataframe\">\n",
       "  <thead>\n",
       "    <tr style=\"text-align: right;\">\n",
       "      <th></th>\n",
       "      <th>Date</th>\n",
       "      <th>News</th>\n",
       "    </tr>\n",
       "  </thead>\n",
       "  <tbody>\n",
       "    <tr>\n",
       "      <th>0</th>\n",
       "      <td>2016-07-01</td>\n",
       "      <td>A 117-year-old woman in Mexico City finally re...</td>\n",
       "    </tr>\n",
       "    <tr>\n",
       "      <th>1</th>\n",
       "      <td>2016-07-01</td>\n",
       "      <td>IMF chief backs Athens as permanent Olympic host</td>\n",
       "    </tr>\n",
       "  </tbody>\n",
       "</table>\n",
       "</div>"
      ],
      "text/plain": [
       "         Date                                               News\n",
       "0  2016-07-01  A 117-year-old woman in Mexico City finally re...\n",
       "1  2016-07-01   IMF chief backs Athens as permanent Olympic host"
      ]
     },
     "execution_count": 51,
     "metadata": {},
     "output_type": "execute_result"
    }
   ],
   "source": [
    "news.head(2)"
   ]
  },
  {
   "cell_type": "code",
   "execution_count": 52,
   "metadata": {
    "collapsed": true
   },
   "outputs": [],
   "source": [
    "djia = pd.read_csv('C:\\\\Users\\\\ryan\\\\Desktop\\\\Thinkful DS Sample Data - Main Course\\\\Unit 3\\\\DJIA_Table.csv')"
   ]
  },
  {
   "cell_type": "code",
   "execution_count": 53,
   "metadata": {
    "collapsed": false
   },
   "outputs": [
    {
     "data": {
      "text/html": [
       "<div>\n",
       "<table border=\"1\" class=\"dataframe\">\n",
       "  <thead>\n",
       "    <tr style=\"text-align: right;\">\n",
       "      <th></th>\n",
       "      <th>Date</th>\n",
       "      <th>Open</th>\n",
       "      <th>High</th>\n",
       "      <th>Low</th>\n",
       "      <th>Close</th>\n",
       "      <th>Volume</th>\n",
       "      <th>Adj Close</th>\n",
       "    </tr>\n",
       "  </thead>\n",
       "  <tbody>\n",
       "    <tr>\n",
       "      <th>0</th>\n",
       "      <td>2016-07-01</td>\n",
       "      <td>17924.240234</td>\n",
       "      <td>18002.380859</td>\n",
       "      <td>17916.910156</td>\n",
       "      <td>17949.369141</td>\n",
       "      <td>82160000</td>\n",
       "      <td>17949.369141</td>\n",
       "    </tr>\n",
       "    <tr>\n",
       "      <th>1</th>\n",
       "      <td>2016-06-30</td>\n",
       "      <td>17712.759766</td>\n",
       "      <td>17930.609375</td>\n",
       "      <td>17711.800781</td>\n",
       "      <td>17929.990234</td>\n",
       "      <td>133030000</td>\n",
       "      <td>17929.990234</td>\n",
       "    </tr>\n",
       "  </tbody>\n",
       "</table>\n",
       "</div>"
      ],
      "text/plain": [
       "         Date          Open          High           Low         Close  \\\n",
       "0  2016-07-01  17924.240234  18002.380859  17916.910156  17949.369141   \n",
       "1  2016-06-30  17712.759766  17930.609375  17711.800781  17929.990234   \n",
       "\n",
       "      Volume     Adj Close  \n",
       "0   82160000  17949.369141  \n",
       "1  133030000  17929.990234  "
      ]
     },
     "execution_count": 53,
     "metadata": {},
     "output_type": "execute_result"
    }
   ],
   "source": [
    "djia.head(2)"
   ]
  },
  {
   "cell_type": "code",
   "execution_count": 54,
   "metadata": {
    "collapsed": false
   },
   "outputs": [],
   "source": [
    "#Combined dataset only shows whether or not the stock market went up on the same day as the news articles.\n",
    "#We should aim to predict the next day of trading, so I will offset the \"label\" feature by 1 day\n",
    "\n",
    "df2 = df[['Label', 'Date']]\n",
    "#Drop the first row which is the oldest date\n",
    "df2 = df2.drop(0)\n",
    "#Drop last row of headline information which is the most recent\n",
    "df = df.drop(len(df) -1)"
   ]
  },
  {
   "cell_type": "code",
   "execution_count": 55,
   "metadata": {
    "collapsed": false
   },
   "outputs": [],
   "source": [
    "df2 = df2.reset_index(drop = True)"
   ]
  },
  {
   "cell_type": "code",
   "execution_count": 56,
   "metadata": {
    "collapsed": true
   },
   "outputs": [],
   "source": [
    "df['Label'] = df2['Label']\n",
    "df['Date'] = df2['Date']"
   ]
  },
  {
   "cell_type": "code",
   "execution_count": 57,
   "metadata": {
    "collapsed": false
   },
   "outputs": [],
   "source": [
    "#Now df has the prior day's headlines and the current day's stock market indicator\n",
    "#Create the test and training datasets\n",
    "\n",
    "train = df[df['Date'] < '2015-01-01']\n",
    "test = df[df['Date'] > '2014-12-01']"
   ]
  },
  {
   "cell_type": "code",
   "execution_count": 58,
   "metadata": {
    "collapsed": false
   },
   "outputs": [],
   "source": [
    "#Create a list with all 25 headlines per day as 1 record\n",
    "\n",
    "headlines_list = []\n",
    "for row in range(len(train)):\n",
    "    headlines_list.append(' '.join(str(x) for x in train.iloc[row,2:27]))"
   ]
  },
  {
   "cell_type": "code",
   "execution_count": 59,
   "metadata": {
    "collapsed": false
   },
   "outputs": [],
   "source": [
    "from sklearn.feature_extraction.text import TfidfVectorizer\n",
    "tvec = TfidfVectorizer(min_df = 1, stop_words = 'english')\n",
    "\n",
    "train_features = tvec.fit_transform(headlines_list)"
   ]
  },
  {
   "cell_type": "code",
   "execution_count": 60,
   "metadata": {
    "collapsed": false
   },
   "outputs": [],
   "source": [
    "from sklearn.linear_model import LogisticRegression\n",
    "logit = LogisticRegression()\n",
    "logit = logit.fit(train_features, train[\"Label\"])"
   ]
  },
  {
   "cell_type": "code",
   "execution_count": 61,
   "metadata": {
    "collapsed": false
   },
   "outputs": [],
   "source": [
    "testheadlines = []\n",
    "for row in range(len(test)):\n",
    "    testheadlines.append(' '.join(str(x) for x in test.iloc[row,2:27]))\n",
    "test_features = tvec.transform(testheadlines) #Do not re-fit, just create counts based on the train data word list\n",
    "predictions = logit.predict(test_features)"
   ]
  },
  {
   "cell_type": "code",
   "execution_count": 63,
   "metadata": {
    "collapsed": false
   },
   "outputs": [
    {
     "name": "stdout",
     "output_type": "stream",
     "text": [
      "Model Accuracy: 0.528822055138\n"
     ]
    }
   ],
   "source": [
    "print('Model Accuracy:', 1 - (test['Label']!=predictions).sum()/len(test['Label']))"
   ]
  },
  {
   "cell_type": "code",
   "execution_count": 65,
   "metadata": {
    "collapsed": false
   },
   "outputs": [
    {
     "name": "stdout",
     "output_type": "stream",
     "text": [
      "Null Accuracy:  0.508771929825\n"
     ]
    }
   ],
   "source": [
    "#What is the null accuracy, like if we just predicted \"1\" every time?\n",
    "print('Null Accuracy: ', (test['Label'].sum()/len(test['Label'])))"
   ]
  },
  {
   "cell_type": "code",
   "execution_count": 73,
   "metadata": {
    "collapsed": false
   },
   "outputs": [
    {
     "name": "stdout",
     "output_type": "stream",
     "text": [
      "Fold: 1\n",
      "Logistic Regression Accuracy: 0.546184738956\n",
      "Fold: 2\n",
      "Logistic Regression Accuracy: 0.497991967871\n",
      "Fold: 3\n",
      "Logistic Regression Accuracy: 0.497991967871\n",
      "Fold: 4\n",
      "Logistic Regression Accuracy: 0.562248995984\n",
      "Fold: 5\n",
      "Logistic Regression Accuracy: 0.471774193548\n",
      "Fold: 6\n",
      "Logistic Regression Accuracy: 0.5\n",
      "Fold: 7\n",
      "Logistic Regression Accuracy: 0.556451612903\n",
      "Fold: 8\n",
      "Logistic Regression Accuracy: 0.528225806452\n",
      "Average Accuracy: 0.520108660448\n"
     ]
    }
   ],
   "source": [
    "#Let's try some cross-validation on the Logistic Regression Model\n",
    "\n",
    "X = df\n",
    "y = df['Label']\n",
    "\n",
    "from sklearn import cross_validation\n",
    "from sklearn.model_selection import KFold\n",
    "from sklearn.feature_extraction.text import TfidfVectorizer\n",
    "#from sklearn.feature_extraction.text import CountVectorizer\n",
    "from sklearn.linear_model import LogisticRegression\n",
    "\n",
    "accuracy = []\n",
    "\n",
    "test_no = 1\n",
    "kf = KFold(n_splits=8, shuffle = True)\n",
    "\n",
    "for train_index, test_index in kf.split(X, y):\n",
    "    #print(train_index)\n",
    "    #print(test_index)\n",
    "    X_train, X_test = X.iloc[train_index], X.iloc[test_index] \n",
    "    y_train, y_test = y.iloc[train_index], y.iloc[test_index]\n",
    "  \n",
    "    train_headlines_list = []\n",
    "    for row in train_index:\n",
    "        train_headlines_list.append(' '.join(str(x) for x in df.iloc[row,2:27]))\n",
    "        \n",
    "    test_headlines_list = []\n",
    "    for row in test_index:\n",
    "        test_headlines_list.append(' '.join(str(x) for x in df.iloc[row,2:27]))\n",
    "        \n",
    "    tvec = TfidfVectorizer(min_df = 1, stop_words = 'english')\n",
    "    #tvec = CountVectorizer(ngram_range=(2,2))\n",
    "    train_features = tvec.fit_transform(train_headlines_list)\n",
    "    test_features = tvec.transform(test_headlines_list) #Do not re-fit, just create counts based on the train data word list\n",
    "    \n",
    "    logit = LogisticRegression()\n",
    "    logit = logit.fit(train_features, y_train)\n",
    "    \n",
    "    predicted = logit.predict(test_features)\n",
    "    actual = y_test\n",
    "    print('Fold:', test_no)\n",
    "    print('Logistic Regression Accuracy:', 1 - (actual!=predicted).sum()/len(actual))\n",
    "    accuracy.append(1 - (actual!=predicted).sum()/len(actual))\n",
    "    test_no = test_no + 1\n",
    "\n",
    "print('Average Accuracy:', np.mean(accuracy))"
   ]
  },
  {
   "cell_type": "code",
   "execution_count": null,
   "metadata": {
    "collapsed": true
   },
   "outputs": [],
   "source": [
    "#It looks like, overall, the model can provide some additional insight into the market direction. "
   ]
  },
  {
   "cell_type": "code",
   "execution_count": 74,
   "metadata": {
    "collapsed": false
   },
   "outputs": [
    {
     "name": "stdout",
     "output_type": "stream",
     "text": [
      "Fold: 1\n",
      "Random Forest Accuracy: 0.5140562249\n",
      "Fold: 2\n",
      "Random Forest Accuracy: 0.5140562249\n",
      "Fold: 3\n",
      "Random Forest Accuracy: 0.530120481928\n",
      "Fold: 4\n",
      "Random Forest Accuracy: 0.4859437751\n",
      "Fold: 5\n",
      "Random Forest Accuracy: 0.524193548387\n",
      "Fold: 6\n",
      "Random Forest Accuracy: 0.556451612903\n",
      "Fold: 7\n",
      "Random Forest Accuracy: 0.532258064516\n",
      "Fold: 8\n",
      "Random Forest Accuracy: 0.536290322581\n",
      "Average Accuracy: 0.524171281902\n"
     ]
    }
   ],
   "source": [
    "#Let's try a random forest model next\n",
    "\n",
    "X = df\n",
    "y = df['Label']\n",
    "\n",
    "from sklearn import cross_validation\n",
    "from sklearn.model_selection import KFold\n",
    "from sklearn.feature_extraction.text import TfidfVectorizer\n",
    "from sklearn import ensemble\n",
    "\n",
    "accuracy = []\n",
    "\n",
    "test_no = 1\n",
    "kf = KFold(n_splits=8, shuffle = True)\n",
    "\n",
    "for train_index, test_index in kf.split(X, y):\n",
    "    #print(train_index)\n",
    "    #print(test_index)\n",
    "    X_train, X_test = X.iloc[train_index], X.iloc[test_index] \n",
    "    y_train, y_test = y.iloc[train_index], y.iloc[test_index]\n",
    "  \n",
    "    train_headlines_list = []\n",
    "    for row in train_index:\n",
    "        train_headlines_list.append(' '.join(str(x) for x in df.iloc[row,2:27]))\n",
    "        \n",
    "    test_headlines_list = []\n",
    "    for row in test_index:\n",
    "        test_headlines_list.append(' '.join(str(x) for x in df.iloc[row,2:27]))\n",
    "        \n",
    "    tvec = TfidfVectorizer(min_df = 1, stop_words = 'english')\n",
    "    \n",
    "    train_features = tvec.fit_transform(train_headlines_list)\n",
    "    test_features = tvec.transform(test_headlines_list) #Do not re-fit, just create counts based on the train data word list\n",
    "    \n",
    "    rfc = ensemble.RandomForestClassifier(n_estimators = 200, criterion = 'entropy')#, max_features = 'auto', max_depth = 3)\n",
    "    rfc = rfc.fit(train_features, y_train)\n",
    "    \n",
    "    predicted = rfc.predict(test_features)\n",
    "    actual = y_test\n",
    "    print('Fold:', test_no)\n",
    "    print('Random Forest Accuracy:', 1 - (actual!=predicted).sum()/len(actual))\n",
    "    accuracy.append(1 - (actual!=predicted).sum()/len(actual))\n",
    "    test_no = test_no + 1\n",
    "\n",
    "print('Average Accuracy:', np.mean(accuracy))"
   ]
  },
  {
   "cell_type": "code",
   "execution_count": 75,
   "metadata": {
    "collapsed": false
   },
   "outputs": [
    {
     "name": "stdout",
     "output_type": "stream",
     "text": [
      "Fold: 1\n",
      "Random Forest Accuracy: 0.497991967871\n",
      "Fold: 2\n",
      "Random Forest Accuracy: 0.586345381526\n",
      "Fold: 3\n",
      "Random Forest Accuracy: 0.570281124498\n",
      "Fold: 4\n",
      "Random Forest Accuracy: 0.534136546185\n",
      "Fold: 5\n",
      "Random Forest Accuracy: 0.540322580645\n",
      "Fold: 6\n",
      "Random Forest Accuracy: 0.479838709677\n",
      "Fold: 7\n",
      "Random Forest Accuracy: 0.516129032258\n",
      "Fold: 8\n",
      "Random Forest Accuracy: 0.548387096774\n",
      "Average Accuracy: 0.534179054929\n"
     ]
    }
   ],
   "source": [
    "#RANDOM FOREST V2\n",
    "\n",
    "X = df\n",
    "y = df['Label']\n",
    "\n",
    "from sklearn import cross_validation\n",
    "from sklearn.model_selection import KFold\n",
    "from sklearn.feature_extraction.text import TfidfVectorizer\n",
    "from sklearn import ensemble\n",
    "\n",
    "accuracy = []\n",
    "\n",
    "test_no = 1\n",
    "kf = KFold(n_splits=8, shuffle = True)\n",
    "\n",
    "for train_index, test_index in kf.split(X, y):\n",
    "    #print(train_index)\n",
    "    #print(test_index)\n",
    "    X_train, X_test = X.iloc[train_index], X.iloc[test_index] \n",
    "    y_train, y_test = y.iloc[train_index], y.iloc[test_index]\n",
    "  \n",
    "    train_headlines_list = []\n",
    "    for row in train_index:\n",
    "        train_headlines_list.append(' '.join(str(x) for x in df.iloc[row,2:27]))\n",
    "        \n",
    "    test_headlines_list = []\n",
    "    for row in test_index:\n",
    "        test_headlines_list.append(' '.join(str(x) for x in df.iloc[row,2:27]))\n",
    "        \n",
    "    tvec = TfidfVectorizer(min_df = 1, stop_words = 'english', ngram_range=(2,2))\n",
    "    \n",
    "    train_features = tvec.fit_transform(train_headlines_list)\n",
    "    test_features = tvec.transform(test_headlines_list) #Do not re-fit, just create counts based on the train data word list\n",
    "    \n",
    "    rfc = ensemble.RandomForestClassifier(n_estimators = 200, criterion = 'entropy')#, max_features = 'auto', max_depth = 3)\n",
    "    rfc = rfc.fit(train_features, y_train)\n",
    "    \n",
    "    predicted = rfc.predict(test_features)\n",
    "    actual = y_test\n",
    "    print('Fold:', test_no)\n",
    "    print('Random Forest Accuracy:', 1 - (actual!=predicted).sum()/len(actual))\n",
    "    accuracy.append(1 - (actual!=predicted).sum()/len(actual))\n",
    "    test_no = test_no + 1\n",
    "\n",
    "print('Average Accuracy:', np.mean(accuracy))"
   ]
  },
  {
   "cell_type": "code",
   "execution_count": 76,
   "metadata": {
    "collapsed": false
   },
   "outputs": [
    {
     "name": "stdout",
     "output_type": "stream",
     "text": [
      "Fold: 1\n",
      "Support Vector Classifier Accuracy: 0.538152610442\n",
      "Fold: 2\n",
      "Support Vector Classifier Accuracy: 0.546184738956\n",
      "Fold: 3\n",
      "Support Vector Classifier Accuracy: 0.558232931727\n",
      "Fold: 4\n",
      "Support Vector Classifier Accuracy: 0.469879518072\n",
      "Fold: 5\n",
      "Support Vector Classifier Accuracy: 0.540322580645\n",
      "Fold: 6\n",
      "Support Vector Classifier Accuracy: 0.560483870968\n",
      "Fold: 7\n",
      "Support Vector Classifier Accuracy: 0.5\n",
      "Fold: 8\n",
      "Support Vector Classifier Accuracy: 0.572580645161\n",
      "Average Accuracy: 0.535729611996\n"
     ]
    }
   ],
   "source": [
    "#Let's try a SVC\n",
    "\n",
    "X = df\n",
    "y = df['Label']\n",
    "\n",
    "from sklearn import cross_validation\n",
    "from sklearn.model_selection import KFold\n",
    "from sklearn.feature_extraction.text import TfidfVectorizer\n",
    "from sklearn.svm import SVC\n",
    "\n",
    "accuracy = []\n",
    "\n",
    "test_no = 1\n",
    "kf = KFold(n_splits=8, shuffle = True)\n",
    "\n",
    "for train_index, test_index in kf.split(X, y):\n",
    "    #print(train_index)\n",
    "    #print(test_index)\n",
    "    X_train, X_test = X.iloc[train_index], X.iloc[test_index] \n",
    "    y_train, y_test = y.iloc[train_index], y.iloc[test_index]\n",
    "  \n",
    "    train_headlines_list = []\n",
    "    for row in train_index:\n",
    "        train_headlines_list.append(' '.join(str(x) for x in df.iloc[row,2:27]))\n",
    "        \n",
    "    test_headlines_list = []\n",
    "    for row in test_index:\n",
    "        test_headlines_list.append(' '.join(str(x) for x in df.iloc[row,2:27]))\n",
    "        \n",
    "    tvec = TfidfVectorizer(min_df = 1, stop_words = 'english')\n",
    "    \n",
    "    train_features = tvec.fit_transform(train_headlines_list)\n",
    "    test_features = tvec.transform(test_headlines_list) #Do not re-fit, just create counts based on the train data word list\n",
    "    \n",
    "    svc = SVC()\n",
    "    svc = svc.fit(train_features, y_train)\n",
    "    \n",
    "    predicted = svc.predict(test_features)\n",
    "    actual = y_test\n",
    "    print('Fold:', test_no)\n",
    "    print('Support Vector Classifier Accuracy:', 1 - (actual!=predicted).sum()/len(actual))\n",
    "    accuracy.append(1 - (actual!=predicted).sum()/len(actual))\n",
    "    test_no = test_no + 1\n",
    "\n",
    "print('Average Accuracy:', np.mean(accuracy))"
   ]
  },
  {
   "cell_type": "code",
   "execution_count": 77,
   "metadata": {
    "collapsed": false
   },
   "outputs": [
    {
     "name": "stdout",
     "output_type": "stream",
     "text": [
      "Fold: 1\n",
      "Support Vector Classifier Accuracy: 0.546184738956\n",
      "Fold: 2\n",
      "Support Vector Classifier Accuracy: 0.518072289157\n",
      "Fold: 3\n",
      "Support Vector Classifier Accuracy: 0.550200803213\n",
      "Fold: 4\n",
      "Support Vector Classifier Accuracy: 0.542168674699\n",
      "Fold: 5\n",
      "Support Vector Classifier Accuracy: 0.504032258065\n",
      "Fold: 6\n",
      "Support Vector Classifier Accuracy: 0.536290322581\n",
      "Fold: 7\n",
      "Support Vector Classifier Accuracy: 0.552419354839\n",
      "Fold: 8\n",
      "Support Vector Classifier Accuracy: 0.536290322581\n",
      "Average Accuracy: 0.535707345511\n"
     ]
    }
   ],
   "source": [
    "#SVC V2\n",
    "\n",
    "X = df\n",
    "y = df['Label']\n",
    "\n",
    "from sklearn import cross_validation\n",
    "from sklearn.model_selection import KFold\n",
    "from sklearn.feature_extraction.text import TfidfVectorizer\n",
    "from sklearn.svm import SVC\n",
    "\n",
    "accuracy = []\n",
    "\n",
    "test_no = 1\n",
    "kf = KFold(n_splits=8, shuffle = True)\n",
    "\n",
    "for train_index, test_index in kf.split(X, y):\n",
    "    #print(train_index)\n",
    "    #print(test_index)\n",
    "    X_train, X_test = X.iloc[train_index], X.iloc[test_index] \n",
    "    y_train, y_test = y.iloc[train_index], y.iloc[test_index]\n",
    "  \n",
    "    train_headlines_list = []\n",
    "    for row in train_index:\n",
    "        train_headlines_list.append(' '.join(str(x) for x in df.iloc[row,2:27]))\n",
    "        \n",
    "    test_headlines_list = []\n",
    "    for row in test_index:\n",
    "        test_headlines_list.append(' '.join(str(x) for x in df.iloc[row,2:27]))\n",
    "        \n",
    "    tvec = TfidfVectorizer(min_df = 1, stop_words = 'english', ngram_range=(2,2))\n",
    "    \n",
    "    train_features = tvec.fit_transform(train_headlines_list)\n",
    "    test_features = tvec.transform(test_headlines_list) #Do not re-fit, just create counts based on the train data word list\n",
    "    \n",
    "    svc = SVC()\n",
    "    svc = svc.fit(train_features, y_train)\n",
    "    \n",
    "    predicted = svc.predict(test_features)\n",
    "    actual = y_test\n",
    "    print('Fold:', test_no)\n",
    "    print('Support Vector Classifier Accuracy:', 1 - (actual!=predicted).sum()/len(actual))\n",
    "    accuracy.append(1 - (actual!=predicted).sum()/len(actual))\n",
    "    test_no = test_no + 1\n",
    "\n",
    "print('Average Accuracy:', np.mean(accuracy))"
   ]
  },
  {
   "cell_type": "code",
   "execution_count": null,
   "metadata": {
    "collapsed": true
   },
   "outputs": [],
   "source": []
  },
  {
   "cell_type": "code",
   "execution_count": null,
   "metadata": {
    "collapsed": true
   },
   "outputs": [],
   "source": []
  },
  {
   "cell_type": "code",
   "execution_count": null,
   "metadata": {
    "collapsed": true
   },
   "outputs": [],
   "source": []
  }
 ],
 "metadata": {
  "kernelspec": {
   "display_name": "Python 3",
   "language": "python",
   "name": "python3"
  },
  "language_info": {
   "codemirror_mode": {
    "name": "ipython",
    "version": 3
   },
   "file_extension": ".py",
   "mimetype": "text/x-python",
   "name": "python",
   "nbconvert_exporter": "python",
   "pygments_lexer": "ipython3",
   "version": "3.6.0"
  }
 },
 "nbformat": 4,
 "nbformat_minor": 2
}

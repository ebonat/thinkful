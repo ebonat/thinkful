{
 "cells": [
  {
   "cell_type": "code",
   "execution_count": 80,
   "metadata": {
    "collapsed": false
   },
   "outputs": [
    {
     "data": {
      "text/html": [
       "<div>\n",
       "<table border=\"1\" class=\"dataframe\">\n",
       "  <thead>\n",
       "    <tr style=\"text-align: right;\">\n",
       "      <th></th>\n",
       "      <th>cntry</th>\n",
       "      <th>idno</th>\n",
       "      <th>year</th>\n",
       "      <th>tvtot</th>\n",
       "      <th>ppltrst</th>\n",
       "      <th>pplfair</th>\n",
       "      <th>pplhlp</th>\n",
       "      <th>happy</th>\n",
       "      <th>sclmeet</th>\n",
       "      <th>sclact</th>\n",
       "      <th>gndr</th>\n",
       "      <th>agea</th>\n",
       "      <th>partner</th>\n",
       "    </tr>\n",
       "  </thead>\n",
       "  <tbody>\n",
       "    <tr>\n",
       "      <th>0</th>\n",
       "      <td>CH</td>\n",
       "      <td>5.0</td>\n",
       "      <td>6</td>\n",
       "      <td>3.0</td>\n",
       "      <td>3.0</td>\n",
       "      <td>10.0</td>\n",
       "      <td>5.0</td>\n",
       "      <td>8.0</td>\n",
       "      <td>5.0</td>\n",
       "      <td>4.0</td>\n",
       "      <td>2.0</td>\n",
       "      <td>60.0</td>\n",
       "      <td>1.0</td>\n",
       "    </tr>\n",
       "    <tr>\n",
       "      <th>1</th>\n",
       "      <td>CH</td>\n",
       "      <td>25.0</td>\n",
       "      <td>6</td>\n",
       "      <td>6.0</td>\n",
       "      <td>5.0</td>\n",
       "      <td>7.0</td>\n",
       "      <td>5.0</td>\n",
       "      <td>9.0</td>\n",
       "      <td>3.0</td>\n",
       "      <td>2.0</td>\n",
       "      <td>2.0</td>\n",
       "      <td>59.0</td>\n",
       "      <td>1.0</td>\n",
       "    </tr>\n",
       "    <tr>\n",
       "      <th>2</th>\n",
       "      <td>CH</td>\n",
       "      <td>26.0</td>\n",
       "      <td>6</td>\n",
       "      <td>1.0</td>\n",
       "      <td>8.0</td>\n",
       "      <td>8.0</td>\n",
       "      <td>8.0</td>\n",
       "      <td>7.0</td>\n",
       "      <td>6.0</td>\n",
       "      <td>3.0</td>\n",
       "      <td>1.0</td>\n",
       "      <td>24.0</td>\n",
       "      <td>2.0</td>\n",
       "    </tr>\n",
       "    <tr>\n",
       "      <th>3</th>\n",
       "      <td>CH</td>\n",
       "      <td>28.0</td>\n",
       "      <td>6</td>\n",
       "      <td>4.0</td>\n",
       "      <td>6.0</td>\n",
       "      <td>6.0</td>\n",
       "      <td>7.0</td>\n",
       "      <td>10.0</td>\n",
       "      <td>6.0</td>\n",
       "      <td>2.0</td>\n",
       "      <td>2.0</td>\n",
       "      <td>64.0</td>\n",
       "      <td>1.0</td>\n",
       "    </tr>\n",
       "    <tr>\n",
       "      <th>4</th>\n",
       "      <td>CH</td>\n",
       "      <td>29.0</td>\n",
       "      <td>6</td>\n",
       "      <td>5.0</td>\n",
       "      <td>6.0</td>\n",
       "      <td>7.0</td>\n",
       "      <td>5.0</td>\n",
       "      <td>8.0</td>\n",
       "      <td>7.0</td>\n",
       "      <td>2.0</td>\n",
       "      <td>2.0</td>\n",
       "      <td>55.0</td>\n",
       "      <td>1.0</td>\n",
       "    </tr>\n",
       "  </tbody>\n",
       "</table>\n",
       "</div>"
      ],
      "text/plain": [
       "  cntry  idno  year  tvtot  ppltrst  pplfair  pplhlp  happy  sclmeet  sclact  \\\n",
       "0    CH   5.0     6    3.0      3.0     10.0     5.0    8.0      5.0     4.0   \n",
       "1    CH  25.0     6    6.0      5.0      7.0     5.0    9.0      3.0     2.0   \n",
       "2    CH  26.0     6    1.0      8.0      8.0     8.0    7.0      6.0     3.0   \n",
       "3    CH  28.0     6    4.0      6.0      6.0     7.0   10.0      6.0     2.0   \n",
       "4    CH  29.0     6    5.0      6.0      7.0     5.0    8.0      7.0     2.0   \n",
       "\n",
       "   gndr  agea  partner  \n",
       "0   2.0  60.0      1.0  \n",
       "1   2.0  59.0      1.0  \n",
       "2   1.0  24.0      2.0  \n",
       "3   2.0  64.0      1.0  \n",
       "4   2.0  55.0      1.0  "
      ]
     },
     "execution_count": 80,
     "metadata": {},
     "output_type": "execute_result"
    }
   ],
   "source": [
    "import pandas as pd\n",
    "import numpy as np\n",
    "import matplotlib.pyplot as plt\n",
    "import seaborn as sns\n",
    "import scipy.stats as stats\n",
    "\n",
    "df = pd.read_csv('C:\\\\Users\\\\ryan\\\\Desktop\\\\Thinkful DS Sample Data - Main Course\\\\Unit 1\\\\ESSdata_Thinkful.csv')\n",
    "df.head()"
   ]
  },
  {
   "cell_type": "code",
   "execution_count": 35,
   "metadata": {
    "collapsed": false
   },
   "outputs": [
    {
     "name": "stdout",
     "output_type": "stream",
     "text": [
      "             ppltrst\n",
      "cntry year          \n",
      "CH    6     5.677878\n",
      "      7     5.751617\n",
      "CZ    6     4.362519\n",
      "      7     4.424658\n",
      "DE    6     5.214286\n",
      "      7     5.357143\n",
      "ES    6     5.114592\n",
      "      7     4.895128\n",
      "NO    6     6.649315\n",
      "      7     6.598630\n",
      "SE    6     6.058499\n",
      "      7     6.257709\n",
      "Country:  CH . Year:  6 . Avg. Trust:  5.67787839586\n",
      "Country:  CH . Year:  7 . Avg. Trust:  5.75161707633\n",
      "Country:  CZ . Year:  6 . Avg. Trust:  4.36251920123\n",
      "Country:  CZ . Year:  7 . Avg. Trust:  4.42465753425\n",
      "Country:  DE . Year:  6 . Avg. Trust:  5.21428571429\n",
      "Country:  DE . Year:  7 . Avg. Trust:  5.35714285714\n",
      "Country:  ES . Year:  6 . Avg. Trust:  5.11459192086\n",
      "Country:  ES . Year:  7 . Avg. Trust:  4.89512799339\n",
      "Country:  NO . Year:  6 . Avg. Trust:  6.64931506849\n",
      "Country:  NO . Year:  7 . Avg. Trust:  6.59863013699\n",
      "Country:  SE . Year:  6 . Avg. Trust:  6.05849889625\n",
      "Country:  SE . Year:  7 . Avg. Trust:  6.2577092511\n"
     ]
    }
   ],
   "source": [
    "#Did people become less trusting from 2012 to 2014? Compute results for each country in the sample.\n",
    "#Years 6 and 7 correspond to 2012 and 2014\n",
    "comp = df[(df.year == 6) | (df.year == 7)]\n",
    "\n",
    "#Method 1\n",
    "print(comp[['cntry', 'year', 'ppltrst']].groupby(['cntry', 'year']).mean())\n",
    "\n",
    "#Method 2\n",
    "for country in comp.cntry.unique():\n",
    "    for year in comp.year.unique():\n",
    "        print('Country: ', country, \".\",  \"Year: \", year, \".\", \"Avg. Trust: \"\n",
    "              , comp[(comp.cntry == country) & (comp.year == year)].ppltrst.mean())"
   ]
  },
  {
   "cell_type": "code",
   "execution_count": 38,
   "metadata": {
    "collapsed": false
   },
   "outputs": [
    {
     "name": "stdout",
     "output_type": "stream",
     "text": [
      "               happy\n",
      "cntry year          \n",
      "CH    6     8.088312\n",
      "      7     8.116429\n",
      "CZ    6     6.770898\n",
      "      7     6.914110\n",
      "DE    6     7.428571\n",
      "      7     7.857143\n",
      "ES    6     7.548680\n",
      "      7     7.419967\n",
      "NO    6     8.251719\n",
      "      7     7.915185\n",
      "SE    6     7.907387\n",
      "      7     7.946961\n",
      "Country:  CH . Year:  6 . Avg. Happiness:  8.08831168831\n",
      "Country:  CH . Year:  7 . Avg. Happiness:  8.11642949547\n",
      "Country:  CZ . Year:  6 . Avg. Happiness:  6.77089783282\n",
      "Country:  CZ . Year:  7 . Avg. Happiness:  6.91411042945\n",
      "Country:  DE . Year:  6 . Avg. Happiness:  7.42857142857\n",
      "Country:  DE . Year:  7 . Avg. Happiness:  7.85714285714\n",
      "Country:  ES . Year:  6 . Avg. Happiness:  7.54867986799\n",
      "Country:  ES . Year:  7 . Avg. Happiness:  7.4199669967\n",
      "Country:  NO . Year:  6 . Avg. Happiness:  8.25171939477\n",
      "Country:  NO . Year:  7 . Avg. Happiness:  7.91518467852\n",
      "Country:  SE . Year:  6 . Avg. Happiness:  7.90738699008\n",
      "Country:  SE . Year:  7 . Avg. Happiness:  7.94696132597\n"
     ]
    }
   ],
   "source": [
    "#Did people become happier from 2012 to 2014? Compute results for each country in the sample.\n",
    "#Years 6 and 7 correspond to 2012 and 2014\n",
    "comp = df[(df.year == 6) | (df.year == 7)]\n",
    "\n",
    "#Method 1\n",
    "print(comp[['cntry', 'year', 'happy']].groupby(['cntry', 'year']).mean())\n",
    "\n",
    "#Method 2\n",
    "for country in comp.cntry.unique():\n",
    "    for year in comp.year.unique():\n",
    "        print('Country: ', country, \".\",  \"Year: \", year, \".\", \"Avg. Happiness: \"\n",
    "              , comp[(comp.cntry == country) & (comp.year == year)].happy.mean())"
   ]
  },
  {
   "cell_type": "code",
   "execution_count": 42,
   "metadata": {
    "collapsed": false
   },
   "outputs": [
    {
     "name": "stdout",
     "output_type": "stream",
     "text": [
      "         tvtot\n",
      "gndr          \n",
      "1.0   3.901906\n",
      "2.0   3.944393\n",
      "Gender: Female. Avg. Hours of TV per Weekday:  3.94439252336\n",
      "Gender: Male. Avg. Hours of TV per Weekday:  3.90190609019\n"
     ]
    }
   ],
   "source": [
    "#Who reported watching more TV in 2012, men or women?\n",
    "\n",
    "comp = df[(df.year == 6)]\n",
    "\n",
    "#Method 1\n",
    "print(comp[['gndr', 'tvtot']].groupby(['gndr']).mean())\n",
    "\n",
    "#Men = 1, Women = 2\n",
    "\n",
    "#Method 2\n",
    "for gender in comp.gndr.unique():\n",
    "    if gender == 1.0:\n",
    "        print(\"Gender: Male.\", \"Avg. Hours of TV per Weekday: \"\n",
    "              , comp[(comp.gndr == gender)].tvtot.mean())\n",
    "    else:\n",
    "        print(\"Gender: Female.\", \"Avg. Hours of TV per Weekday: \"\n",
    "              , comp[(comp.gndr == gender)].tvtot.mean())\n",
    "        "
   ]
  },
  {
   "cell_type": "code",
   "execution_count": 75,
   "metadata": {
    "collapsed": false
   },
   "outputs": [
    {
     "name": "stdout",
     "output_type": "stream",
     "text": [
      "          pplfair\n",
      "partner          \n",
      "1.0      6.080736\n",
      "2.0      5.856965\n",
      "Living Situation: Lives with partner(s). Avg. Level of Perceived Fairness:  6.08073601202\n",
      "Living Situation: Lives alone. Avg. Level of Perceived Fairness:  5.85696517413\n"
     ]
    }
   ],
   "source": [
    "#Who was more likely to believe people were fair in 2012, people living with a partner or people living alone?\n",
    "\n",
    "comp = df[(df.year == 6)]\n",
    "\n",
    "#Method 1\n",
    "print(comp[['partner', 'pplfair']].groupby(['partner']).mean())\n",
    "\n",
    "#There are some NaN values for partner - drop them\n",
    "\n",
    "comp = comp.dropna(subset = ['partner'])\n",
    "\n",
    "#Method 2\n",
    "for partner in comp.partner.unique():\n",
    "    if partner == 1.0:\n",
    "        print(\"Living Situation: Lives with partner(s).\", \"Avg. Level of Perceived Fairness: \"\n",
    "              , comp[(comp.partner == partner)].pplfair.mean())\n",
    "    else:\n",
    "        print(\"Living Situation: Lives alone.\", \"Avg. Level of Perceived Fairness: \"\n",
    "              , comp[(comp.partner == partner)].pplfair.mean())"
   ]
  },
  {
   "cell_type": "code",
   "execution_count": 96,
   "metadata": {
    "collapsed": false
   },
   "outputs": [
    {
     "data": {
      "image/png": "[encoded data removed]",
      "text/plain": [
       "<matplotlib.figure.Figure at 0xa8ebed0>"
      ]
     },
     "metadata": {},
     "output_type": "display_data"
    },
    {
     "name": "stdout",
     "output_type": "stream",
     "text": [
      "ANOVA 3-way test\n",
      "F_onewayResult(statistic=7.8889073426891425, pvalue=0.00038301513884460325)\n",
      "Switzerland vs Spain:\n",
      "Ttest_indResult(statistic=-1.5343317353073618, pvalue=0.12510774525042745)\n",
      "Sweden vs Spain:\n",
      "Ttest_indResult(statistic=2.6495472685800778, pvalue=0.0081199227965129493)\n",
      "Sweden vs Switzerland:\n",
      "Ttest_indResult(statistic=4.0371310444030621, pvalue=5.6545986003135322e-05)\n",
      "        sclmeet\n",
      "cntry          \n",
      "CH     5.160622\n",
      "ES     5.260116\n",
      "SE     5.426211\n"
     ]
    }
   ],
   "source": [
    "#Pick three or four of the countries in the sample and compare how often people met socially in 2014. \n",
    "#Are there differences, and if so, which countries stand out?\n",
    "\n",
    "df2 = df[(df.cntry == 'CH') & (df.year == 7) | (df.cntry == 'ES') & (df.year == 7) | (df.cntry == 'SE') & (df.year == 7)]\n",
    "df3 = df2[['cntry', 'sclmeet', 'sclact']]\n",
    "\n",
    "#Drop Nan Vals\n",
    "df3 = df3.dropna(subset = ['sclmeet'])\n",
    "\n",
    "sns.distplot(df3['sclmeet'])\n",
    "plt.show()\n",
    "\n",
    "#Data is not really normal - still okay to use ANOVA? Should I use non-parametric test?\n",
    "\n",
    "print('ANOVA 3-way test')\n",
    "print(stats.f_oneway(df3[df3.cntry == 'CH'].sclmeet,\n",
    "                     df3[df3.cntry == 'ES'].sclmeet,\n",
    "                     df3[df3.cntry == 'SE'].sclmeet))\n",
    "\n",
    "#Difference is significant (p < 0.05) - Which countries stand out?\n",
    "\n",
    "print('Switzerland vs Spain:')\n",
    "print(stats.ttest_ind(df3[df3.cntry == 'CH'].sclmeet,\n",
    "                      df3[df3.cntry == 'ES'].sclmeet))\n",
    "\n",
    "\n",
    "print('Sweden vs Spain:')\n",
    "print(stats.ttest_ind(df3[df3.cntry == 'SE'].sclmeet,\n",
    "                      df3[df3.cntry == 'ES'].sclmeet))\n",
    "\n",
    "\n",
    "print('Sweden vs Switzerland:')\n",
    "print(stats.ttest_ind(df3[df3.cntry == 'SE'].sclmeet,\n",
    "                      df3[df3.cntry == 'CH'].sclmeet))\n",
    "\n",
    "\n",
    "print(df3[['cntry', 'sclmeet']].groupby('cntry').mean())\n",
    "\n",
    "#Sweden sticks out."
   ]
  },
  {
   "cell_type": "code",
   "execution_count": 99,
   "metadata": {
    "collapsed": false
   },
   "outputs": [
    {
     "data": {
      "image/png": "[encoded data removed]",
      "text/plain": [
       "<matplotlib.figure.Figure at 0xa549110>"
      ]
     },
     "metadata": {},
     "output_type": "display_data"
    },
    {
     "name": "stdout",
     "output_type": "stream",
     "text": [
      "ANOVA 3-way test\n",
      "F_onewayResult(statistic=22.028167439547552, pvalue=3.2096123170558474e-10)\n",
      "Switzerland vs Spain:\n",
      "Ttest_indResult(statistic=3.7901178679751157, pvalue=0.00015515309017284228)\n",
      "Sweden vs Spain:\n",
      "Ttest_indResult(statistic=6.5002573458665971, pvalue=1.0000807299873861e-10)\n",
      "Sweden vs Switzerland:\n",
      "Ttest_indResult(statistic=2.247107750003853, pvalue=0.024763496042596676)\n",
      "         sclact\n",
      "cntry          \n",
      "CH     2.781699\n",
      "ES     2.616878\n",
      "SE     2.879425\n"
     ]
    }
   ],
   "source": [
    "#Pick three or four of the countries in the sample and compare how often people took part in social activities, \n",
    "#relative to others their age, in 2014. Are there differences, and if so, which countries stand out?\n",
    "\n",
    "df2 = df[(df.cntry == 'CH') & (df.year == 7) | (df.cntry == 'ES') & (df.year == 7) | (df.cntry == 'SE') & (df.year == 7)]\n",
    "df4 = df2[['cntry', 'sclmeet', 'sclact']]\n",
    "\n",
    "#Drop Nan Vals\n",
    "df4 = df4.dropna(subset = ['sclact'])\n",
    "\n",
    "sns.distplot(df4['sclact'])\n",
    "plt.show()\n",
    "\n",
    "#Data looks fairly normal - okay to use ANOVA? Should I use non-parametric test?\n",
    "\n",
    "print('ANOVA 3-way test')\n",
    "print(stats.f_oneway(df4[df4.cntry == 'CH'].sclact,\n",
    "                     df4[df4.cntry == 'ES'].sclact,\n",
    "                     df4[df4.cntry == 'SE'].sclact))\n",
    "\n",
    "#Difference is significant (p < 0.05) - Which countries stand out?\n",
    "\n",
    "print('Switzerland vs Spain:')\n",
    "print(stats.ttest_ind(df4[df4.cntry == 'CH'].sclact,\n",
    "                      df4[df4.cntry == 'ES'].sclact))\n",
    "\n",
    "\n",
    "print('Sweden vs Spain:')\n",
    "print(stats.ttest_ind(df4[df4.cntry == 'SE'].sclact,\n",
    "                      df4[df4.cntry == 'ES'].sclact))\n",
    "\n",
    "\n",
    "print('Sweden vs Switzerland:')\n",
    "print(stats.ttest_ind(df4[df4.cntry == 'SE'].sclact,\n",
    "                      df4[df4.cntry == 'CH'].sclact))\n",
    "\n",
    "\n",
    "print(df4[['cntry', 'sclact']].groupby('cntry').mean())\n",
    "\n",
    "#Spain sticks out."
   ]
  },
  {
   "cell_type": "code",
   "execution_count": null,
   "metadata": {
    "collapsed": true
   },
   "outputs": [],
   "source": []
  }
 ],
 "metadata": {
  "kernelspec": {
   "display_name": "Python 3",
   "language": "python",
   "name": "python3"
  },
  "language_info": {
   "codemirror_mode": {
    "name": "ipython",
    "version": 3
   },
   "file_extension": ".py",
   "mimetype": "text/x-python",
   "name": "python",
   "nbconvert_exporter": "python",
   "pygments_lexer": "ipython3",
   "version": "3.6.0"
  }
 },
 "nbformat": 4,
 "nbformat_minor": 2
}

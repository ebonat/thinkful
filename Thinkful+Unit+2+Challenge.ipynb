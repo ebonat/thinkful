{
 "cells": [
  {
   "cell_type": "code",
   "execution_count": 2,
   "metadata": {
    "collapsed": false
   },
   "outputs": [],
   "source": [
    "import numpy as np\n",
    "import pandas as pd\n",
    "import math \n",
    "import matplotlib.pyplot as plt\n",
    "%matplotlib inline\n",
    "\n",
    "#http://data.un.org/Explorer.aspx\n",
    "# Create a DataFrame using pandas read_csv()\n",
    "df = pd.read_csv('C:\\\\Users\\\\ryan\\Desktop\\\\Thinkful DS Sample Data - Prep Course\\\\Sample Data\\\\UNdata_Export_20170201_062423700.csv')"
   ]
  },
  {
   "cell_type": "code",
   "execution_count": 4,
   "metadata": {
    "collapsed": false,
    "scrolled": true
   },
   "outputs": [
    {
     "data": {
      "text/html": [
       "<div>\n",
       "<table border=\"1\" class=\"dataframe\">\n",
       "  <thead>\n",
       "    <tr style=\"text-align: right;\">\n",
       "      <th></th>\n",
       "      <th>Country or Area</th>\n",
       "      <th>Year</th>\n",
       "      <th>Value</th>\n",
       "    </tr>\n",
       "  </thead>\n",
       "  <tbody>\n",
       "    <tr>\n",
       "      <th>0</th>\n",
       "      <td>Australia</td>\n",
       "      <td>2013</td>\n",
       "      <td>398527.893789</td>\n",
       "    </tr>\n",
       "    <tr>\n",
       "      <th>1</th>\n",
       "      <td>Australia</td>\n",
       "      <td>2012</td>\n",
       "      <td>405836.381314</td>\n",
       "    </tr>\n",
       "    <tr>\n",
       "      <th>2</th>\n",
       "      <td>Australia</td>\n",
       "      <td>2011</td>\n",
       "      <td>404866.332124</td>\n",
       "    </tr>\n",
       "    <tr>\n",
       "      <th>3</th>\n",
       "      <td>Australia</td>\n",
       "      <td>2010</td>\n",
       "      <td>404773.911567</td>\n",
       "    </tr>\n",
       "    <tr>\n",
       "      <th>4</th>\n",
       "      <td>Australia</td>\n",
       "      <td>2009</td>\n",
       "      <td>407013.346259</td>\n",
       "    </tr>\n",
       "  </tbody>\n",
       "</table>\n",
       "</div>"
      ],
      "text/plain": [
       "  Country or Area  Year          Value\n",
       "0       Australia  2013  398527.893789\n",
       "1       Australia  2012  405836.381314\n",
       "2       Australia  2011  404866.332124\n",
       "3       Australia  2010  404773.911567\n",
       "4       Australia  2009  407013.346259"
      ]
     },
     "execution_count": 4,
     "metadata": {},
     "output_type": "execute_result"
    }
   ],
   "source": [
    "# Take a quick look at the data structure\n",
    "df.head()"
   ]
  },
  {
   "cell_type": "code",
   "execution_count": 7,
   "metadata": {
    "collapsed": false
   },
   "outputs": [
    {
     "data": {
      "image/png": "[encoded data removed]",
      "text/plain": [
       "<matplotlib.figure.Figure at 0x7a72310>"
      ]
     },
     "metadata": {},
     "output_type": "display_data"
    }
   ],
   "source": [
    "# Isolate USA and plot CO2 emissions over time (1990-2013)\n",
    "df2 = df.ix[lambda df2: df['Country or Area'] == 'United States of America', :]\n",
    "plt.plot(df2['Year'], df2['Value'], color = 'red')\n",
    "plt.xlabel('Year')\n",
    "plt.ylabel('Kilotonnes CO2 Emitted')\n",
    "plt.title('CO2 Emission Trend in the United States of America 1990-2013')\n",
    "plt.show()"
   ]
  },
  {
   "cell_type": "code",
   "execution_count": 8,
   "metadata": {
    "collapsed": false
   },
   "outputs": [
    {
     "name": "stdout",
     "output_type": "stream",
     "text": [
      "                          Year         Value\n",
      "Country or Area                             \n",
      "Australia                 1990  2.782203e+05\n",
      "Austria                   1990  6.031147e+04\n",
      "Belarus                   1990  5.234703e+04\n",
      "Belgium                   1990  1.012611e+05\n",
      "Bulgaria                  1990  4.275577e+04\n",
      "Canada                    1990  4.534982e+05\n",
      "Croatia                   1990  1.670604e+04\n",
      "Cyprus                    1990  4.673084e+03\n",
      "Czech Republic            1990  1.060671e+05\n",
      "Denmark                   1990  4.110050e+04\n",
      "Estonia                   1990  1.415359e+04\n",
      "European Union            1990  3.649699e+06\n",
      "Finland                   1990  5.107784e+04\n",
      "France                    1990  3.679212e+05\n",
      "Germany                   1990  7.891066e+05\n",
      "Greece                    1990  8.291742e+04\n",
      "Hungary                   1990  4.388792e+04\n",
      "Iceland                   1990  2.041995e+03\n",
      "Ireland                   1990  3.274245e+04\n",
      "Italy                     1990  3.604227e+05\n",
      "Japan                     1990  1.154403e+06\n",
      "Latvia                    1990  7.012424e+03\n",
      "Liechtenstein             1990  1.799947e+02\n",
      "Lithuania                 1990  1.181690e+04\n",
      "Luxembourg                1990  7.739677e+03\n",
      "Malta                     1990  1.870041e+03\n",
      "Monaco                    1990  7.919871e+01\n",
      "Netherlands               1990  1.604563e+05\n",
      "New Zealand               1990  2.539226e+04\n",
      "Norway                    1990  3.396693e+04\n",
      "Poland                    1990  3.077906e+05\n",
      "Portugal                  1990  4.489642e+04\n",
      "Romania                   1990  7.343739e+04\n",
      "Russian Federation        1990  1.476954e+06\n",
      "Slovakia                  1990  3.577354e+04\n",
      "Slovenia                  1990  1.400850e+04\n",
      "Spain                     1990  2.297878e+05\n",
      "Sweden                    1990  4.481162e+04\n",
      "Switzerland               1990  4.184765e+04\n",
      "Turkey                    1990  1.538269e+05\n",
      "Ukraine                   1990  2.691384e+05\n",
      "United Kingdom            1990  4.649424e+05\n",
      "United States of America  1990  5.047451e+06\n",
      "                          Year         Value\n",
      "Country or Area                             \n",
      "Australia                 2013  4.070133e+05\n",
      "Austria                   2013  7.959632e+04\n",
      "Belarus                   2012  1.038068e+05\n",
      "Belgium                   2013  1.296674e+05\n",
      "Bulgaria                  2013  8.028615e+04\n",
      "Canada                    2013  5.978976e+05\n",
      "Croatia                   2013  2.523858e+04\n",
      "Cyprus                    2013  8.644311e+03\n",
      "Czech Republic            2013  1.617002e+05\n",
      "Denmark                   2013  7.598747e+04\n",
      "Estonia                   2013  3.675865e+04\n",
      "European Union            2013  4.460311e+06\n",
      "Finland                   2013  7.243657e+04\n",
      "France                    2013  4.287757e+05\n",
      "Germany                   2013  1.050885e+06\n",
      "Greece                    2013  1.140307e+05\n",
      "Hungary                   2013  7.298431e+04\n",
      "Iceland                   2013  3.564968e+03\n",
      "Ireland                   2013  4.795220e+04\n",
      "Italy                     2013  4.926806e+05\n",
      "Japan                     2013  1.318232e+06\n",
      "Latvia                    2013  1.953934e+04\n",
      "Liechtenstein             2012  2.349809e+02\n",
      "Lithuania                 2013  3.792105e+04\n",
      "Luxembourg                2013  1.249346e+04\n",
      "Malta                     2013  2.799809e+03\n",
      "Monaco                    2012  1.162889e+02\n",
      "Netherlands               2013  1.827407e+05\n",
      "New Zealand               2013  3.764314e+04\n",
      "Norway                    2013  4.581080e+04\n",
      "Poland                    2013  3.794648e+05\n",
      "Portugal                  2013  6.881633e+04\n",
      "Romania                   2013  1.730124e+05\n",
      "Russian Federation        2013  2.590118e+06\n",
      "Slovakia                  2013  6.174470e+04\n",
      "Slovenia                  2013  1.823063e+04\n",
      "Spain                     2013  3.685112e+05\n",
      "Sweden                    2013  6.319915e+04\n",
      "Switzerland               2012  4.636858e+04\n",
      "Turkey                    2013  3.683388e+05\n",
      "Ukraine                   2013  6.913439e+05\n",
      "United Kingdom            2013  6.048881e+05\n",
      "United States of America  2013  8.243184e+06\n"
     ]
    }
   ],
   "source": [
    "# Find minimum and maximum years of data by country\n",
    "print(df.groupby('Country or Area').min())\n",
    "print(df.groupby('Country or Area').max())"
   ]
  },
  {
   "cell_type": "code",
   "execution_count": 15,
   "metadata": {
    "collapsed": false
   },
   "outputs": [
    {
     "data": {
      "image/png": "[encoded data removed]",
      "text/plain": [
       "<matplotlib.figure.Figure at 0x793a850>"
      ]
     },
     "metadata": {},
     "output_type": "display_data"
    }
   ],
   "source": [
    "# Some countries only have data through 2012. Hence I will exclude 2013 for consistency.\n",
    "df3 = df.ix[lambda df3: df['Year'] <= 2012, :]\n",
    "# Aggregate all countries included in the dataset and plot.\n",
    "df4 = df3.groupby('Year').sum()\n",
    "plt.plot(df4['Value'])\n",
    "plt.xlabel('Year')\n",
    "plt.ylabel('Kilotonnes CO2 Emitted')\n",
    "plt.title('Global CO2 Emission Trend (Where UN Data Available) 1990-2012')\n",
    "plt.tight_layout()\n",
    "plt.show()"
   ]
  },
  {
   "cell_type": "code",
   "execution_count": 14,
   "metadata": {
    "collapsed": false
   },
   "outputs": [
    {
     "data": {
      "image/png": "[encoded data removed]",
      "text/plain": [
       "<matplotlib.figure.Figure at 0x1685350>"
      ]
     },
     "metadata": {},
     "output_type": "display_data"
    }
   ],
   "source": [
    "# Compare aggregate CO2 distributions of 1990 with 2012.\n",
    "df5 = df.ix[lambda df: df['Year'] == 1990, :]\n",
    "df6 = df.ix[lambda df: df['Year'] == 2012, :]\n",
    "plt.subplot(2,1,1)\n",
    "plt.hist(df5['Value'], color = 'red', alpha = 0.5)\n",
    "plt.hist(df6['Value'], color = 'blue', alpha = 0.5)\n",
    "\n",
    "# Show a box-plot of the CO2 emissions for 2012\n",
    "x = df6['Value']\n",
    "# Convert column to row array for use in boxplot() function\n",
    "x_transpose = []\n",
    "for val in x:\n",
    "    x_transpose.append(val)\n",
    "plt.subplot(2,1,2)\n",
    "plt.boxplot(x_transpose)\n",
    "plt.tight_layout()\n",
    "plt.show()"
   ]
  },
  {
   "cell_type": "code",
   "execution_count": null,
   "metadata": {
    "collapsed": false
   },
   "outputs": [],
   "source": []
  },
  {
   "cell_type": "code",
   "execution_count": null,
   "metadata": {
    "collapsed": true
   },
   "outputs": [],
   "source": []
  }
 ],
 "metadata": {
  "kernelspec": {
   "display_name": "Python 3",
   "language": "python",
   "name": "python3"
  },
  "language_info": {
   "codemirror_mode": {
    "name": "ipython",
    "version": 3
   },
   "file_extension": ".py",
   "mimetype": "text/x-python",
   "name": "python",
   "nbconvert_exporter": "python",
   "pygments_lexer": "ipython3",
   "version": "3.6.0"
  }
 },
 "nbformat": 4,
 "nbformat_minor": 2
}
